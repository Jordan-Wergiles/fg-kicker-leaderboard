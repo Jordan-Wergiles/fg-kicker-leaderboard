{
 "cells": [
  {
   "cell_type": "markdown",
   "id": "03c24993",
   "metadata": {},
   "source": [
    "import pandas as pd\n",
    "import numpy as np\n",
    "from sklearn.linear_model import LogisticRegression"
   ]
  },
  {
   "cell_type": "markdown",
   "id": "82cd2cc0",
   "metadata": {},
   "source": [
    "fg = pd.read_csv(\"field_goal_attempts.csv\")\n",
    "players = pd.read_csv(\"kickers.csv\")\n",
    "\n",
    "fg = fg[(fg['season_type'] == 'Reg') & (fg['week'] <= 6)]\n",
    "fg = fg[fg['field_goal_result'].isin(['Made', 'Missed'])]\n",
    "fg['make'] = fg['field_goal_result'].map({'Made': 1, 'Missed': 0})\n",
    "\n",
    "fg.head()"
   ]
  },
  {
   "cell_type": "markdown",
   "id": "e09b92fc",
   "metadata": {},
   "source": [
    "model = LogisticRegression()\n",
    "model.fit(fg[['attempt_yards']], fg['make'])\n",
    "fg['expected_make_prob'] = model.predict_proba(fg[['attempt_yards']])[:, 1]\n",
    "fg['fgoe'] = fg['make'] - fg['expected_make_prob']"
   ]
  },
  {
   "cell_type": "markdown",
   "id": "672d5e73",
   "metadata": {},
   "source": [
    "kicker_stats = fg.groupby('player_id').agg(\n",
    "    attempts=('make', 'count'),\n",
    "    fgoe_total=('fgoe', 'sum'),\n",
    "    fgoe_per_attempt=('fgoe', 'mean')\n",
    ").reset_index()\n",
    "\n",
    "kicker_stats = kicker_stats[kicker_stats['attempts'] >= 10].copy()\n",
    "kicker_stats['rating'] = kicker_stats['fgoe_total']\n",
    "kicker_stats['rank'] = kicker_stats['rating'].rank(method='min', ascending=False).astype(int)\n",
    "\n",
    "leaderboard = kicker_stats.merge(players[['player_id', 'player_name']], on='player_id')\n",
    "leaderboard = leaderboard[['player_id', 'player_name', 'rating', 'rank']].sort_values(by='rank')\n",
    "leaderboard.head()"
   ]
  },
  {
   "cell_type": "markdown",
   "id": "62080deb",
   "metadata": {},
   "source": [
    "leaderboard.to_csv(\"leaderboard.csv\", index=False)"
   ]
  },
  {
   "cell_type": "markdown",
   "id": "17a04821",
   "metadata": {},
   "source": []
  }
 ],
 "metadata": {
  "kernelspec": {
   "display_name": "Python 3",
   "language": "python",
   "name": "python3"
  },
  "language_info": {
   "name": "python",
   "version": "3.13.3"
  }
 },
 "nbformat": 4,
 "nbformat_minor": 5
}
